{
 "cells": [
  {
   "cell_type": "code",
   "execution_count": 1,
   "metadata": {},
   "outputs": [],
   "source": [
    "import pandas as pd\n",
    "import numpy as np\n",
    "from datetime import timedelta\n",
    "from strfdelta import strfdelta\n",
    "from glob import glob\n",
    "from re import findall\n",
    "from matplotlib import pyplot as plt\n",
    "from IPython.display import display, HTML"
   ]
  },
  {
   "cell_type": "code",
   "execution_count": 9,
   "metadata": {},
   "outputs": [],
   "source": [
    "sourceDirs = [\n",
    "    ('./1', 39),\n",
    "    ('./2', 358),\n",
    "    ('./3', 13)\n",
    "]"
   ]
  },
  {
   "cell_type": "code",
   "execution_count": 10,
   "metadata": {},
   "outputs": [],
   "source": [
    "def getCsvsFromDir(srcDir: str):\n",
    "    for path in glob(srcDir+'/n*.csv'):\n",
    "        data = pd.read_csv(path)\n",
    "\n",
    "        iters = int(findall(\"n(\\d+)\\.csv\", path)[0])\n",
    "\n",
    "        yield data, iters"
   ]
  },
  {
   "cell_type": "code",
   "execution_count": 11,
   "metadata": {},
   "outputs": [],
   "source": [
    "inline = True\n",
    "if not inline:\n",
    "    %matplotlib qt\n",
    "else:\n",
    "    %matplotlib inline"
   ]
  },
  {
   "cell_type": "code",
   "execution_count": 15,
   "metadata": {},
   "outputs": [
    {
     "data": {
      "text/html": [
       "<table border=\"1\" class=\"dataframe\">\n",
       "  <thead>\n",
       "    <tr style=\"text-align: right;\">\n",
       "      <th>Iteracje</th>\n",
       "      <th>Arduino</th>\n",
       "      <th>PC</th>\n",
       "    </tr>\n",
       "  </thead>\n",
       "  <tbody>\n",
       "    <tr>\n",
       "      <td>5</td>\n",
       "      <td>0s 174ms 301µs</td>\n",
       "      <td>0s 0ms 26µs</td>\n",
       "    </tr>\n",
       "    <tr>\n",
       "      <td>10</td>\n",
       "      <td>0s 319ms 718µs</td>\n",
       "      <td>0s 0ms 55µs</td>\n",
       "    </tr>\n",
       "    <tr>\n",
       "      <td>20</td>\n",
       "      <td>0s 609ms 878µs</td>\n",
       "      <td>0s 0ms 115µs</td>\n",
       "    </tr>\n",
       "    <tr>\n",
       "      <td>30</td>\n",
       "      <td>0s 897ms 893µs</td>\n",
       "      <td>0s 0ms 182µs</td>\n",
       "    </tr>\n",
       "    <tr>\n",
       "      <td>39</td>\n",
       "      <td>1s 156ms 860µs</td>\n",
       "      <td>0s 0ms 202µs</td>\n",
       "    </tr>\n",
       "    <tr>\n",
       "      <td>50</td>\n",
       "      <td>1s 475ms 203µs</td>\n",
       "      <td>0s 0ms 276µs</td>\n",
       "    </tr>\n",
       "    <tr>\n",
       "      <td>75</td>\n",
       "      <td>2s 196ms 500µs</td>\n",
       "      <td>0s 0ms 382µs</td>\n",
       "    </tr>\n",
       "    <tr>\n",
       "      <td>100</td>\n",
       "      <td>2s 921ms 994µs</td>\n",
       "      <td>0s 0ms 506µs</td>\n",
       "    </tr>\n",
       "    <tr>\n",
       "      <td>125</td>\n",
       "      <td>3s 645ms 193µs</td>\n",
       "      <td>0s 0ms 638µs</td>\n",
       "    </tr>\n",
       "    <tr>\n",
       "      <td>150</td>\n",
       "      <td>4s 362ms 838µs</td>\n",
       "      <td>0s 0ms 758µs</td>\n",
       "    </tr>\n",
       "    <tr>\n",
       "      <td>175</td>\n",
       "      <td>5s 89ms 126µs</td>\n",
       "      <td>0s 0ms 901µs</td>\n",
       "    </tr>\n",
       "    <tr>\n",
       "      <td>200</td>\n",
       "      <td>5s 816ms 284µs</td>\n",
       "      <td>0s 1ms 10µs</td>\n",
       "    </tr>\n",
       "  </tbody>\n",
       "</table>"
      ],
      "text/plain": [
       "<IPython.core.display.HTML object>"
      ]
     },
     "metadata": {},
     "output_type": "display_data"
    },
    {
     "name": "stdout",
     "output_type": "stream",
     "text": [
      "Arduino/PC średnia: 5677\n"
     ]
    },
    {
     "data": {
      "text/html": [
       "<table border=\"1\" class=\"dataframe\">\n",
       "  <thead>\n",
       "    <tr style=\"text-align: right;\">\n",
       "      <th>Iteracje</th>\n",
       "      <th>Arduino</th>\n",
       "      <th>PC</th>\n",
       "    </tr>\n",
       "  </thead>\n",
       "  <tbody>\n",
       "    <tr>\n",
       "      <td>200</td>\n",
       "      <td>11s 494ms 166µs</td>\n",
       "      <td>0s 1ms 49µs</td>\n",
       "    </tr>\n",
       "    <tr>\n",
       "      <td>225</td>\n",
       "      <td>12s 917ms 732µs</td>\n",
       "      <td>0s 1ms 320µs</td>\n",
       "    </tr>\n",
       "    <tr>\n",
       "      <td>250</td>\n",
       "      <td>14s 331ms 894µs</td>\n",
       "      <td>0s 1ms 318µs</td>\n",
       "    </tr>\n",
       "    <tr>\n",
       "      <td>275</td>\n",
       "      <td>15s 759ms 556µs</td>\n",
       "      <td>0s 1ms 584µs</td>\n",
       "    </tr>\n",
       "    <tr>\n",
       "      <td>300</td>\n",
       "      <td>17s 156ms 193µs</td>\n",
       "      <td>0s 1ms 547µs</td>\n",
       "    </tr>\n",
       "    <tr>\n",
       "      <td>325</td>\n",
       "      <td>18s 579ms 957µs</td>\n",
       "      <td>0s 1ms 652µs</td>\n",
       "    </tr>\n",
       "    <tr>\n",
       "      <td>350</td>\n",
       "      <td>20s 0ms 198µs</td>\n",
       "      <td>0s 1ms 826µs</td>\n",
       "    </tr>\n",
       "    <tr>\n",
       "      <td>358</td>\n",
       "      <td>20s 457ms 733µs</td>\n",
       "      <td>0s 1ms 968µs</td>\n",
       "    </tr>\n",
       "    <tr>\n",
       "      <td>375</td>\n",
       "      <td>21s 427ms 202µs</td>\n",
       "      <td>0s 2ms 244µs</td>\n",
       "    </tr>\n",
       "    <tr>\n",
       "      <td>400</td>\n",
       "      <td>22s 852ms 365µs</td>\n",
       "      <td>0s 2ms 194µs</td>\n",
       "    </tr>\n",
       "  </tbody>\n",
       "</table>"
      ],
      "text/plain": [
       "<IPython.core.display.HTML object>"
      ]
     },
     "metadata": {},
     "output_type": "display_data"
    },
    {
     "name": "stdout",
     "output_type": "stream",
     "text": [
      "Arduino/PC średnia: 10522\n"
     ]
    },
    {
     "data": {
      "text/html": [
       "<table border=\"1\" class=\"dataframe\">\n",
       "  <thead>\n",
       "    <tr style=\"text-align: right;\">\n",
       "      <th>Iteracje</th>\n",
       "      <th>Arduino</th>\n",
       "      <th>PC</th>\n",
       "    </tr>\n",
       "  </thead>\n",
       "  <tbody>\n",
       "    <tr>\n",
       "      <td>4</td>\n",
       "      <td>0s 58ms 883µs</td>\n",
       "      <td>0s 0ms 21µs</td>\n",
       "    </tr>\n",
       "    <tr>\n",
       "      <td>6</td>\n",
       "      <td>0s 82ms 453µs</td>\n",
       "      <td>0s 0ms 306µs</td>\n",
       "    </tr>\n",
       "    <tr>\n",
       "      <td>8</td>\n",
       "      <td>0s 105ms 406µs</td>\n",
       "      <td>0s 0ms 580µs</td>\n",
       "    </tr>\n",
       "    <tr>\n",
       "      <td>10</td>\n",
       "      <td>0s 128ms 805µs</td>\n",
       "      <td>0s 0ms 51µs</td>\n",
       "    </tr>\n",
       "    <tr>\n",
       "      <td>13</td>\n",
       "      <td>0s 164ms 13µs</td>\n",
       "      <td>0s 0ms 66µs</td>\n",
       "    </tr>\n",
       "    <tr>\n",
       "      <td>15</td>\n",
       "      <td>0s 187ms 386µs</td>\n",
       "      <td>0s 0ms 76µs</td>\n",
       "    </tr>\n",
       "    <tr>\n",
       "      <td>20</td>\n",
       "      <td>0s 245ms 511µs</td>\n",
       "      <td>0s 0ms 102µs</td>\n",
       "    </tr>\n",
       "    <tr>\n",
       "      <td>30</td>\n",
       "      <td>0s 362ms 604µs</td>\n",
       "      <td>0s 0ms 157µs</td>\n",
       "    </tr>\n",
       "    <tr>\n",
       "      <td>40</td>\n",
       "      <td>0s 479ms 182µs</td>\n",
       "      <td>0s 0ms 201µs</td>\n",
       "    </tr>\n",
       "    <tr>\n",
       "      <td>50</td>\n",
       "      <td>0s 597ms 224µs</td>\n",
       "      <td>0s 0ms 37µs</td>\n",
       "    </tr>\n",
       "    <tr>\n",
       "      <td>60</td>\n",
       "      <td>0s 714ms 243µs</td>\n",
       "      <td>0s 0ms 362µs</td>\n",
       "    </tr>\n",
       "    <tr>\n",
       "      <td>70</td>\n",
       "      <td>0s 830ms 836µs</td>\n",
       "      <td>0s 0ms 41µs</td>\n",
       "    </tr>\n",
       "  </tbody>\n",
       "</table>"
      ],
      "text/plain": [
       "<IPython.core.display.HTML object>"
      ]
     },
     "metadata": {},
     "output_type": "display_data"
    },
    {
     "name": "stdout",
     "output_type": "stream",
     "text": [
      "Arduino/PC średnia: 4711\n"
     ]
    },
    {
     "data": {
      "image/png": "[encoded data removed]",
      "text/plain": [
       "<Figure size 432x288 with 1 Axes>"
      ]
     },
     "metadata": {
      "needs_background": "light"
     },
     "output_type": "display_data"
    },
    {
     "data": {
      "image/png": "[encoded data removed]",
      "text/plain": [
       "<Figure size 432x288 with 1 Axes>"
      ]
     },
     "metadata": {
      "needs_background": "light"
     },
     "output_type": "display_data"
    },
    {
     "data": {
      "image/png": "[encoded data removed]",
      "text/plain": [
       "<Figure size 432x288 with 1 Axes>"
      ]
     },
     "metadata": {
      "needs_background": "light"
     },
     "output_type": "display_data"
    }
   ],
   "source": [
    "for sourceDir, idealSteps in sourceDirs:\n",
    "    plotData = []\n",
    "\n",
    "    arduino = [ a for a in getCsvsFromDir(sourceDir) ]\n",
    "\n",
    "    for data, iters in arduino:\n",
    "        gb = data.groupby('cycle')\n",
    "\n",
    "        # get the final temp of last cycle (the one with the highest ambient temp)\n",
    "        plotData.append([iters, *gb.last().iloc[-1][['tempIn', 'tempOut', 'tempAmb']]])\n",
    "\n",
    "    data = np.array(plotData)\n",
    "    data = data[data[:, 0].argsort()]\n",
    "\n",
    "    fig = plt.figure(\"finalna \" + sourceDir)\n",
    "    plt.title(\"Temperatury finalne\")\n",
    "    plt.grid()\n",
    "    lines = plt.plot(data[:,0], data[:,1:])\n",
    "    plt.axvline(x=idealSteps, color='red', linewidth=1)\n",
    "\n",
    "    plt.xlim([np.min(data[:,0]), np.max(data[:,0])])\n",
    "\n",
    "    plt.xlabel('Ilość kroków czasowych')\n",
    "    plt.ylabel('Temperatura [°C]')\n",
    "\n",
    "    ax = fig.axes[0]\n",
    "\n",
    "    ax.legend(\n",
    "        lines,\n",
    "        [\n",
    "            'Końcowa temp wewn',\n",
    "            'Końcowa temp zewn',\n",
    "            'Temp pieca'\n",
    "        ],\n",
    "        loc='lower center',\n",
    "        fancybox=True,\n",
    "        ncol=3,\n",
    "        bbox_to_anchor=(0.5, -.31)\n",
    "    )\n",
    "\n",
    "    box = ax.get_position()\n",
    "    ax.set_position([box.x0, box.y0 + box.height * 0.15, box.width, box.height*0.85])\n",
    "\n",
    "    pc = [a for a in getCsvsFromDir(sourceDir+'PC')]\n",
    "\n",
    "    for (data, iters) in pc:\n",
    "        data.columns = [col.strip() for col in data.columns]\n",
    "\n",
    "    table = pd.DataFrame(\n",
    "        [\n",
    "            [\n",
    "                iters,\n",
    "                ardData.groupby('cycle').sum()['arduinoDurationMicros'].mean(),\n",
    "                pcData.groupby('cycle').sum()['arduinoDurationMicros'].mean()\n",
    "            ] for (ardData, iters), (pcData, _) in zip(arduino, pc)\n",
    "        ]\n",
    "    )\n",
    "\n",
    "    table.columns = ['Iteracje', 'Arduino', 'PC']\n",
    "    mean = (table['Arduino'] / table['PC']).mean()\n",
    "    table[['Arduino', 'PC']] = table[['Arduino', 'PC']].applymap(lambda x: strfdelta(timedelta(microseconds=x), '{S}s {m}ms {u}µs'))\n",
    "    table.sort_values('Iteracje', inplace=True)\n",
    "\n",
    "    display(HTML(table.to_html(index=False)))\n",
    "    print(f\"Arduino/PC średnia: {mean:.{0}f}\")"
   ]
  }
 ],
 "metadata": {
  "interpreter": {
   "hash": "a707b6ce8c685eb936424fcc3009d4b4b7a52543c4db09380a3fc49186ceb509"
  },
  "kernelspec": {
   "display_name": "Python 3.8.5 64-bit ('base': conda)",
   "language": "python",
   "name": "python3"
  },
  "language_info": {
   "codemirror_mode": {
    "name": "ipython",
    "version": 3
   },
   "file_extension": ".py",
   "mimetype": "text/x-python",
   "name": "python",
   "nbconvert_exporter": "python",
   "pygments_lexer": "ipython3",
   "version": "3.8.5"
  },
  "orig_nbformat": 4
 },
 "nbformat": 4,
 "nbformat_minor": 2
}
